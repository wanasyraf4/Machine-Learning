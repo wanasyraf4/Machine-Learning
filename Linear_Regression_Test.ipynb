{
  "nbformat": 4,
  "nbformat_minor": 0,
  "metadata": {
    "colab": {
      "name": "Linear Regression Test.ipynb",
      "provenance": [],
      "collapsed_sections": [],
      "authorship_tag": "ABX9TyMMfyTGjKYL+xRi1ioJZPkB",
      "include_colab_link": true
    },
    "kernelspec": {
      "name": "python3",
      "display_name": "Python 3"
    },
    "language_info": {
      "name": "python"
    }
  },
  "cells": [
    {
      "cell_type": "markdown",
      "metadata": {
        "id": "view-in-github",
        "colab_type": "text"
      },
      "source": [
        "<a href=\"https://colab.research.google.com/github/wanasyraf4/Machine-Learning/blob/main/Linear_Regression_Test.ipynb\" target=\"_parent\"><img src=\"https://colab.research.google.com/assets/colab-badge.svg\" alt=\"Open In Colab\"/></a>"
      ]
    },
    {
      "cell_type": "markdown",
      "source": [
        "**Nature of variable**\n",
        "\n",
        "\n",
        "A.(whole numbers)\n",
        "\n",
        "1. byte  : 8-bit two's complement\tformat with Byte-length integer\n",
        "> example  \n",
        "          signed\n",
        "          A = - 256\n",
        "          A = 3\n",
        "          A = 256\n",
        "          unsigned\n",
        "          A = 0\n",
        "          A = 3\n",
        "          A = 256\n",
        "\n",
        "\n",
        "2. short :\t16-bit two's complement format with Short integer\n",
        "> example \n",
        "          signed\n",
        "          A = - 65536\n",
        "          A = 3\n",
        "          A = 65536\n",
        "          unsigned\n",
        "          A = 0\n",
        "          A = 3\n",
        "          A = 65536\n",
        "\n",
        "3. int   : 32-bit two's complement format with Integer\n",
        "> example \n",
        "          signed\n",
        "          A = - 4294967296\n",
        "          A = 3\n",
        "          A = 4294967296\n",
        "          unsigned\n",
        "          A = 0\n",
        "          A = 3\n",
        "          A = 4294967296\n",
        "\n",
        "4. long  :\t64-bit two's complement format with Long integer\n",
        "> example \n",
        "          signed\n",
        "          A = - 18,446,744,073,709,551,616\n",
        "          A = 3\n",
        "          A = 18,446,744,073,709,551,616\n",
        "          unsigned\n",
        "          A = 0\n",
        "          A = 3\n",
        "          A = 18,446,744,073,709,551,616\n",
        "\n",
        "B. (real numbers)\n",
        "1. float  :\t32-bit IEEE 754 format with Single-precision floating point\n",
        "> example \n",
        "          A = 3.1415926\n",
        "\n",
        "2. double :\t64-bit IEEE 754 format with Double-precision floating point\n",
        "> example \n",
        "          A = 3.141592653589793\n",
        "\n",
        "C. (other types)\n",
        "1. char\t16-bit Unicode character format with a single character\n",
        "> example \n",
        "          A = ball\n",
        "\n",
        "2. boolean true or false format with a boolean value (true or false)\n",
        "> example \n",
        "          OR\n",
        "          A = 1 U 1, A = 1 (true)\n",
        "          A = 1 U 0, A = 1 (true)\n",
        "          A = 0 U 1, A = 1 (true)\n",
        "          A = 0 U 0, A = 1 (true)\n",
        "          AND\n",
        "          A = 1 ∩ 1, A = 1 (true)\n",
        "          A = 1 ∩ 0, A = 0 (false)\n",
        "          A = 0 ∩ 1, A = 0 (false)\n",
        "          A = 0 ∩ 0, A = 0 (false)\n",
        "          XOR\n",
        "          A = 1 ∩ 1, A = 1 (true)\n",
        "          A = 1 ∩ 0, A = 0 (false)\n",
        "          A = 0 ∩ 1, A = 0 (false)\n",
        "          A = 0 ∩ 0, A = 0 (false)"
      ],
      "metadata": {
        "id": "8c6un5FcQAbl"
      }
    },
    {
      "cell_type": "markdown",
      "source": [
        "**Step 1: Import packages and classes**"
      ],
      "metadata": {
        "id": "MpDHajfBK6O4"
      }
    },
    {
      "cell_type": "code",
      "execution_count": null,
      "metadata": {
        "id": "U1U9_gMNyjc1"
      },
      "outputs": [],
      "source": [
        "import numpy as np\n",
        "import scipy as sc\n",
        "import pandas as pd\n",
        "import matplotlib.pyplot as plt\n",
        "import plotly.express as px\n",
        "import plotly.graph_objects as go\n",
        "\n",
        "#Import the regression learning model.\n",
        "from sklearn.linear_model import LinearRegression"
      ]
    },
    {
      "cell_type": "markdown",
      "source": [
        "**Step 2: Provide data**\n",
        "\n",
        "The inputs consist of :\n",
        "1. (regressors, 𝑥) or independant variable\n",
        "\n",
        "2. output (response, 𝑦) or dependent variable\n",
        "\n",
        "Note that input should be arrays or similar objects that have same dimension or length."
      ],
      "metadata": {
        "id": "UFXbRLNJK9y7"
      }
    },
    {
      "cell_type": "code",
      "source": [
        "#independent variable\n",
        "x = np.array([5, 15, 25, 35, 45, 55]).reshape((-1, 1))\n",
        "\n",
        "#dependent variable\n",
        "y = np.array([5, 20, 14, 32, 22, 38])"
      ],
      "metadata": {
        "id": "YhvmcdzUy9fg"
      },
      "execution_count": null,
      "outputs": []
    },
    {
      "cell_type": "markdown",
      "source": [
        "**Step 3: Create a model and fit it**\n",
        "\n",
        "Optional parameters to LinearRegression:\n",
        "\n",
        "1. *fit_intercept* is a Boolean that, if True, decides to calculate the intercept 𝑏₀ or, if False, considers it equal to zero. It defaults to True.\n",
        "\n",
        "2. *normalize* is a Boolean that, if True, decides to normalize the input variables. It defaults to False, in which case it doesn’t normalize the input variables.\n",
        "\n",
        "3. *copy_X* is a Boolean that decides whether to copy (True) or overwrite the input variables (False). It’s True by default.\n",
        "\n",
        "4. *n_jobs* is either an integer or None. It represents the number of jobs used in parallel computation. It defaults to None, which usually means one job. -1 means to use all available processors."
      ],
      "metadata": {
        "id": "rUo1TjTdLFJE"
      }
    },
    {
      "cell_type": "code",
      "source": [
        "model = LinearRegression()\n",
        "\n",
        "#With .fit(), you calculate the optimal values of the weights 𝑏₀ and 𝑏₁, \n",
        "#using the existing input and output, x and y, as the arguments\n",
        "model.fit(x, y)\n",
        "model = LinearRegression().fit(x, y)\n"
      ],
      "metadata": {
        "id": "_m-oL9xV1rDJ"
      },
      "execution_count": null,
      "outputs": []
    },
    {
      "cell_type": "markdown",
      "source": [
        "**Step 4: Get results**\n",
        "\n",
        "Once you have your model fitted, you can get the results to check whether the model works satisfactorily and to interpret it.\n",
        "\n",
        "You can obtain the coefficient of determination, 𝑅², with .score() called on model:\n"
      ],
      "metadata": {
        "id": "U9ePjgwjLJyA"
      }
    },
    {
      "cell_type": "code",
      "source": [
        "#value of R2\n",
        "r_sq = model.score(x, y)\n",
        "\n",
        "print(f\"coefficient of determination: {r_sq}\")\n",
        "\n"
      ],
      "metadata": {
        "colab": {
          "base_uri": "https://localhost:8080/"
        },
        "id": "OyEVxCVpLK8d",
        "outputId": "24914113-631a-4807-9e4b-31963ece870a"
      },
      "execution_count": null,
      "outputs": [
        {
          "output_type": "stream",
          "name": "stdout",
          "text": [
            "coefficient of determination: 0.7158756137479542\n"
          ]
        }
      ]
    },
    {
      "cell_type": "markdown",
      "source": [
        "__________________________________________________________\n",
        "The attributes of model are .intercept_, which represents the coefficient 𝑏₀ \n",
        "and .coef_, which represents 𝑏₁:\n",
        " .intercept_ is a scalar, while .coef_ is an vector"
      ],
      "metadata": {
        "id": "TIGg7nj6YWtj"
      }
    },
    {
      "cell_type": "code",
      "source": [
        "#𝑏₀ coefficient\n",
        "print(f\"intercept: {model.intercept_}\")\n",
        "#𝑏₁ coefficient\n",
        "print(f\"slope: {model.coef_}\")"
      ],
      "metadata": {
        "colab": {
          "base_uri": "https://localhost:8080/"
        },
        "id": "Nu_7OnupYWTW",
        "outputId": "7734d377-5c5e-4868-f2c5-9a37a1fa23d4"
      },
      "execution_count": null,
      "outputs": [
        {
          "output_type": "stream",
          "name": "stdout",
          "text": [
            "intercept: 5.633333333333329\n",
            "slope: [0.54]\n"
          ]
        }
      ]
    },
    {
      "cell_type": "markdown",
      "source": [
        "in this case, .intercept_ is a one-dimensional array with the single element 𝑏₀, and .coef_ is a two-dimensional array with the single element 𝑏₁."
      ],
      "metadata": {
        "id": "NoqVwp0JPdb6"
      }
    },
    {
      "cell_type": "code",
      "source": [
        "new_model = LinearRegression().fit(x, y.reshape((-1, 1)))\n",
        "\n",
        "#new model 𝑏₀ coefficient\n",
        "print(f\"intercept: {new_model.intercept_}\")\n",
        "#new model 𝑏₁ coefficient\n",
        "print(f\"slope: {new_model.coef_}\")"
      ],
      "metadata": {
        "colab": {
          "base_uri": "https://localhost:8080/"
        },
        "id": "-4wKiI9o2fzO",
        "outputId": "84b71c31-5ad9-462d-e200-4dd599d5e40c"
      },
      "execution_count": null,
      "outputs": [
        {
          "output_type": "stream",
          "name": "stdout",
          "text": [
            "intercept: [5.63333333]\n",
            "slope: [[0.54]]\n"
          ]
        }
      ]
    },
    {
      "cell_type": "markdown",
      "source": [
        "**Step 5: Predict response**\n",
        "\n",
        "Once you have a satisfactory model, then you can use it for predictions with either existing or new data. To obtain the predicted response, use .predict():"
      ],
      "metadata": {
        "id": "8rQxrnyHZKLG"
      }
    },
    {
      "cell_type": "code",
      "source": [
        "y_pred = model.predict(x)\n",
        "print(f\"predicted response:\\n{y_pred}\")"
      ],
      "metadata": {
        "colab": {
          "base_uri": "https://localhost:8080/"
        },
        "id": "TDkhCCKy2m2V",
        "outputId": "12f60bea-5fe2-49a8-ec32-a417bda68d94"
      },
      "execution_count": null,
      "outputs": [
        {
          "output_type": "stream",
          "name": "stdout",
          "text": [
            "predicted response:\n",
            "[ 8.33333333 13.73333333 19.13333333 24.53333333 29.93333333 35.33333333]\n"
          ]
        }
      ]
    },
    {
      "cell_type": "markdown",
      "source": [
        "When applying .predict(), you pass the regressor as the argument and get the corresponding predicted response. This is a nearly identical way to predict the response:\n",
        "\n",
        "y = np.array([5, 20, 14, 32, 22, 38])"
      ],
      "metadata": {
        "id": "0GSXcP_nZ5rD"
      }
    },
    {
      "cell_type": "code",
      "source": [
        " y_pred_ft = model.intercept_ + model.coef_ * x\n",
        " print(f\"predicted response:\\n{y_pred_ft}\")\n",
        " print(f\"model coefficient:\\n{model.coef_ * x}\")"
      ],
      "metadata": {
        "colab": {
          "base_uri": "https://localhost:8080/"
        },
        "id": "XwmycgtC2sN2",
        "outputId": "6b6952c9-28d1-4ff5-da00-4c17e69ae5b3"
      },
      "execution_count": null,
      "outputs": [
        {
          "output_type": "stream",
          "name": "stdout",
          "text": [
            "predicted response:\n",
            "[[ 8.33333333]\n",
            " [13.73333333]\n",
            " [19.13333333]\n",
            " [24.53333333]\n",
            " [29.93333333]\n",
            " [35.33333333]]\n",
            "model coefficient:\n",
            "[[ 2.7]\n",
            " [ 8.1]\n",
            " [13.5]\n",
            " [18.9]\n",
            " [24.3]\n",
            " [29.7]]\n"
          ]
        }
      ]
    },
    {
      "cell_type": "markdown",
      "source": [
        "In this case, you multiply each element of x with model.coef_ and add model.intercept_ to the product.\n",
        "\n",
        "The output here differs from the previous example only in dimensions. The predicted response is now a two-dimensional array, while in the previous case, it had one dimension.\n",
        "\n",
        "If you reduce the number of dimensions of x to one, then these two approaches will yield the same result. You can do this by replacing x with x.reshape(-1), x.flatten(), or x.ravel() when multiplying it with model.coef_.\n",
        "\n",
        "In practice, regression models are often applied for forecasts. This means that you can use fitted models to calculate the outputs based on new inputs:"
      ],
      "metadata": {
        "id": "nOmx0r7BaLsX"
      }
    },
    {
      "cell_type": "code",
      "source": [
        "x_new = np.arange(5).reshape((-1, 1))\n",
        "print (x_new)\n",
        "\n",
        "y_new = model.predict(x_new)\n",
        "print (y_new)"
      ],
      "metadata": {
        "colab": {
          "base_uri": "https://localhost:8080/"
        },
        "id": "U52qpn1O3IeJ",
        "outputId": "73762956-4346-4e32-9cf3-b19c220285b3"
      },
      "execution_count": null,
      "outputs": [
        {
          "output_type": "stream",
          "name": "stdout",
          "text": [
            "[[0]\n",
            " [1]\n",
            " [2]\n",
            " [3]\n",
            " [4]]\n",
            "[5.63333333 6.17333333 6.71333333 7.25333333 7.79333333]\n"
          ]
        }
      ]
    },
    {
      "cell_type": "markdown",
      "source": [
        "independent variable\n",
        "x = np.array([5, 15, 25, 35, 45, 55]).reshape((-1, 1))\n",
        "\n",
        "dependent variable\n",
        "y = np.array([5, 20, 14, 32, 22, 38])"
      ],
      "metadata": {
        "id": "xOkk7lXahD5x"
      }
    },
    {
      "cell_type": "code",
      "source": [
        "plt.scatter (x,y)\n",
        "plt.scatter (x_new,y_new)\n",
        "plt.plot (x,y_pred_ft)"
      ],
      "metadata": {
        "colab": {
          "base_uri": "https://localhost:8080/",
          "height": 282
        },
        "id": "ISdiN5gMetpJ",
        "outputId": "59acadd2-6269-40b5-9001-9b2a88258489"
      },
      "execution_count": null,
      "outputs": [
        {
          "output_type": "execute_result",
          "data": {
            "text/plain": [
              "[<matplotlib.lines.Line2D at 0x7fc158b14710>]"
            ]
          },
          "metadata": {},
          "execution_count": 58
        },
        {
          "output_type": "display_data",
          "data": {
            "text/plain": [
              "<Figure size 432x288 with 1 Axes>"
            ],
            "image/png": "[encoded data removed]"
          },
          "metadata": {
            "needs_background": "light"
          }
        }
      ]
    }
  ]
}